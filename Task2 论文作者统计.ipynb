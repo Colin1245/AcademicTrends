{
 "cells": [
  {
   "cell_type": "markdown",
   "metadata": {},
   "source": [
    "## 任务说明\n",
    "\n",
    "- 任务主题：论文作者统计，统计所有论文作者出现评率Top10的姓名；\n",
    "- 任务内容：论文作者的统计、使用 **Pandas** 读取数据并使用字符串操作；\n",
    "- 任务成果：学习 **Pandas** 的字符串操作；"
   ]
  },
  {
   "cell_type": "markdown",
   "metadata": {},
   "source": [
    "## 数据处理步骤\n",
    "\n",
    "在原始arxiv数据集中论文作者`authors`字段是一个字符串格式，其中每个作者使用逗号进行分隔分，所以我们我们首先需要完成以下步骤：\n",
    "\n",
    "- 使用逗号对作者进行切分；\n",
    "- 剔除单个作者中非常规的字符；\n",
    "\n",
    "具体操作可以参考以下例子："
   ]
  },
  {
   "cell_type": "markdown",
   "metadata": {},
   "source": [
    "```\n",
    "C. Bal\\\\'azs, E. L. Berger, P. M. Nadolsky, C.-P. Yuan\n",
    "\n",
    "# 切分为，其中\\\\为转义符\n",
    "\n",
    "C. Ba'lazs\n",
    "E. L. Berger\n",
    "P. M. Nadolsky\n",
    "C.-P. Yuan\n",
    "```"
   ]
  },
  {
   "cell_type": "markdown",
   "metadata": {},
   "source": [
    "当然在原始数据集中`authors_parsed`字段已经帮我们处理好了作者信息，可以直接使用该字段完成后续统计。"
   ]
  },
  {
   "cell_type": "markdown",
   "metadata": {},
   "source": [
    "## 字符串处理\n",
    "\n",
    "在Python中字符串是最常用的数据类型，可以使用引号('或\")来创建字符串。Python中所有的字符都使用字符串存储，可以使用方括号来截取字符串，如下实例："
   ]
  },
  {
   "cell_type": "code",
   "execution_count": 1,
   "metadata": {
    "ExecuteTime": {
     "end_time": "2021-01-02T07:19:04.356288Z",
     "start_time": "2021-01-02T07:19:04.347392Z"
    }
   },
   "outputs": [
    {
     "name": "stdout",
     "output_type": "stream",
     "text": [
      "var1[-10:]:  Datawhale!\n",
      "var2[1:5]:  Python \n"
     ]
    }
   ],
   "source": [
    "var1 = 'Hello Datawhale!'\n",
    "var2 = \"Python Everwhere!\"\n",
    " \n",
    "print(\"var1[-10:]: \", var1[-10:])\n",
    "print(\"var2[1:5]: \", var2[0:7])"
   ]
  },
  {
   "cell_type": "markdown",
   "metadata": {},
   "source": [
    "同时在Python中还支持转义符：\n",
    "\n",
    "| \\(在行尾时) | 续行符     |\n",
    "| ----------- | ---------- |\n",
    "| \\\\          | 反斜杠符号 |\n",
    "| \\'          | 单引号     |\n",
    "| \\\"          | 双引号     |\n",
    "| \\n          | 换行       |\n",
    "| \\t          | 横向制表符 |\n",
    "| \\r          | 回车       |\n",
    "\n",
    "Python中还内置了很多内置函数，非常方便使用：\n",
    "\n",
    "| **方法**            | **描述**                                                     |\n",
    "| :------------------ | :----------------------------------------------------------- |\n",
    "| string.capitalize() | 把字符串的第一个字符大写                                     |\n",
    "| string.isalpha()    | 如果 string 至少有一个字符并且所有字符都是字母则返回 True,否则返回 False |\n",
    "| string.title()      | 返回\"标题化\"的 string,就是说所有单词都是以大写开始，其余字母均为小写(见 istitle()) |\n",
    "| string.upper()      | 转换 string 中的小写字母为大写                               |\n"
   ]
  },
  {
   "cell_type": "markdown",
   "metadata": {},
   "source": [
    "## 具体代码实现以及讲解"
   ]
  },
  {
   "cell_type": "markdown",
   "metadata": {},
   "source": [
    "### 数据读取"
   ]
  },
  {
   "cell_type": "code",
   "execution_count": 2,
   "metadata": {
    "ExecuteTime": {
     "end_time": "2021-01-02T07:23:53.184385Z",
     "start_time": "2021-01-02T07:23:52.532581Z"
    }
   },
   "outputs": [],
   "source": [
    "# 导入所需的package\n",
    "import seaborn as sns #用于画图\n",
    "from bs4 import BeautifulSoup #用于爬取arxiv的数据\n",
    "import re #用于正则表达式，匹配字符串的模式\n",
    "import requests #用于网络连接，发送网络请求，使用域名获取对应信息\n",
    "import json #读取数据，我们的数据为json格式的\n",
    "import pandas as pd #数据处理，数据分析\n",
    "import matplotlib.pyplot as plt #画图工具"
   ]
  },
  {
   "cell_type": "code",
   "execution_count": 4,
   "metadata": {
    "ExecuteTime": {
     "end_time": "2021-01-02T07:24:24.787957Z",
     "start_time": "2021-01-02T07:24:23.153747Z"
    }
   },
   "outputs": [],
   "source": [
    "def readArxivFile(path, columns=['id', 'submitter', 'authors', 'title', 'comments', 'journal-ref', 'doi',\n",
    "       'report-no', 'categories', 'license', 'abstract', 'versions',\n",
    "       'update_date', 'authors_parsed'], count=None):\n",
    "    '''\n",
    "    定义读取文件的函数\n",
    "        path: 文件路径\n",
    "        columns: 需要选择的列\n",
    "        count: 读取行数\n",
    "    '''\n",
    "    \n",
    "    data  = []\n",
    "    with open(path, 'r') as f: \n",
    "        for idx, line in enumerate(f): \n",
    "            if idx == count:\n",
    "                break\n",
    "                \n",
    "            d = json.loads(line)\n",
    "            d = {col : d[col] for col in columns}\n",
    "            data.append(d)\n",
    "\n",
    "    data = pd.DataFrame(data)\n",
    "    return data\n",
    "\n",
    "data = readArxivFile('arxiv-metadata-oai-snapshot.json', \n",
    "                     ['id', 'authors', 'categories', 'authors_parsed'],\n",
    "                    100000)\n"
   ]
  },
  {
   "cell_type": "markdown",
   "metadata": {},
   "source": [
    "为了方便处理数据，我们只选择了三个字段进行读取。"
   ]
  },
  {
   "cell_type": "markdown",
   "metadata": {},
   "source": [
    "### 数据统计\n",
    "\n",
    "接下来我们将完成以下统计操作：\n",
    "\n",
    "- 统计所有作者姓名出现频率的Top10；\n",
    "- 统计所有作者姓（姓名最后一个单词）的出现频率的Top10；\n",
    "- 统计所有作者姓第一个字符的评率；\n",
    "\n",
    "为了节约计算时间，下面选择部分类别下的论文进行处理："
   ]
  },
  {
   "cell_type": "code",
   "execution_count": 5,
   "metadata": {
    "ExecuteTime": {
     "end_time": "2021-01-02T07:24:24.816940Z",
     "start_time": "2021-01-02T07:24:24.789818Z"
    }
   },
   "outputs": [],
   "source": [
    "# 选择类别为cs.CV下面的论文\n",
    "data2 = data[data['categories'].apply(lambda x: 'cs.CV' in x)]\n",
    "\n",
    "# 拼接所有作者\n",
    "all_authors = sum(data2['authors_parsed'], [])"
   ]
  },
  {
   "cell_type": "markdown",
   "metadata": {},
   "source": [
    "处理完成后`all_authors`变成了所有一个list，其中每个元素为一个作者的姓名。我们首先来完成姓名频率的统计。"
   ]
  },
  {
   "cell_type": "code",
   "execution_count": 6,
   "metadata": {
    "ExecuteTime": {
     "end_time": "2021-01-02T07:24:25.929001Z",
     "start_time": "2021-01-02T07:24:25.809119Z"
    }
   },
   "outputs": [
    {
     "data": {
      "text/plain": [
       "Text(0.5, 0, 'Count')"
      ]
     },
     "execution_count": 6,
     "metadata": {},
     "output_type": "execute_result"
    },
    {
     "data": {
      "image/png": "[encoded data removed]",
      "text/plain": [
       "<Figure size 720x432 with 1 Axes>"
      ]
     },
     "metadata": {
      "needs_background": "light"
     },
     "output_type": "display_data"
    }
   ],
   "source": [
    "# 拼接所有的作者\n",
    "authors_names = [' '.join(x) for x in all_authors]\n",
    "authors_names = pd.DataFrame(authors_names)\n",
    "\n",
    "# 根据作者频率绘制直方图\n",
    "plt.figure(figsize=(10, 6))\n",
    "authors_names[0].value_counts().head(10).plot(kind='barh')\n",
    "\n",
    "# 修改图配置\n",
    "names = authors_names[0].value_counts().index.values[:10]\n",
    "_ = plt.yticks(range(0, len(names)), names)\n",
    "plt.ylabel('Author')\n",
    "plt.xlabel('Count')"
   ]
  },
  {
   "cell_type": "markdown",
   "metadata": {
    "ExecuteTime": {
     "end_time": "2021-01-02T07:24:08.468797Z",
     "start_time": "2021-01-02T07:24:08.458964Z"
    }
   },
   "source": [
    "接下来统计姓名姓，也就是`authors_parsed`字段中作者第一个单词："
   ]
  },
  {
   "cell_type": "code",
   "execution_count": 7,
   "metadata": {
    "ExecuteTime": {
     "end_time": "2021-01-02T07:24:42.314923Z",
     "start_time": "2021-01-02T07:24:42.199767Z"
    }
   },
   "outputs": [
    {
     "data": {
      "text/plain": [
       "Text(0.5, 0, 'Count')"
      ]
     },
     "execution_count": 7,
     "metadata": {},
     "output_type": "execute_result"
    },
    {
     "data": {
      "image/png": "[encoded data removed]",
      "text/plain": [
       "<Figure size 720x432 with 1 Axes>"
      ]
     },
     "metadata": {
      "needs_background": "light"
     },
     "output_type": "display_data"
    }
   ],
   "source": [
    "authors_lastnames = [x[0] for x in all_authors]\n",
    "authors_lastnames = pd.DataFrame(authors_lastnames)\n",
    "\n",
    "plt.figure(figsize=(10, 6))\n",
    "authors_lastnames[0].value_counts().head(10).plot(kind='barh')\n",
    "\n",
    "names = authors_lastnames[0].value_counts().index.values[:10]\n",
    "_ = plt.yticks(range(0, len(names)), names)\n",
    "plt.ylabel('Author')\n",
    "plt.xlabel('Count')"
   ]
  },
  {
   "cell_type": "markdown",
   "metadata": {},
   "source": [
    "绘制得到的结果，从结果看出这些都是华人或者中国姓氏~\n",
    "\n",
    "\n",
    "统计所有作者姓第一个字符的评率，这个流程与上述的类似，同学们可以自行尝试。\n"
   ]
  },
  {
   "cell_type": "code",
   "execution_count": null,
   "metadata": {},
   "outputs": [],
   "source": []
  }
 ],
 "metadata": {
  "kernelspec": {
   "display_name": "Python 3",
   "language": "python",
   "name": "python3"
  },
  "language_info": {
   "codemirror_mode": {
    "name": "ipython",
    "version": 3
   },
   "file_extension": ".py",
   "mimetype": "text/x-python",
   "name": "python",
   "nbconvert_exporter": "python",
   "pygments_lexer": "ipython3",
   "version": "3.7.3"
  },
  "toc": {
   "base_numbering": 1,
   "nav_menu": {},
   "number_sections": true,
   "sideBar": true,
   "skip_h1_title": false,
   "title_cell": "Table of Contents",
   "title_sidebar": "Contents",
   "toc_cell": false,
   "toc_position": {},
   "toc_section_display": true,
   "toc_window_display": true
  }
 },
 "nbformat": 4,
 "nbformat_minor": 2
}
